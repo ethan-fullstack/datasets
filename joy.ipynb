{
 "cells": [
  {
   "cell_type": "code",
   "execution_count": 1,
   "metadata": {},
   "outputs": [],
   "source": [
    "import pandas as pd\n",
    "import numpy as np\n",
    "import glob\n",
    "import os\n",
    "import arrow"
   ]
  },
  {
   "cell_type": "code",
   "execution_count": 2,
   "metadata": {},
   "outputs": [],
   "source": [
    "combined_df = pd.read_csv(\"./records_ant/rfid_reads_batch.csv\", sep=\"|\")"
   ]
  },
  {
   "cell_type": "code",
   "execution_count": 8,
   "metadata": {},
   "outputs": [],
   "source": [
    "# Define the path to the folder containing the CSV files\n",
    "folder_path = \"./records_ant/\"\n",
    "\n",
    "# Use glob to get all CSV files in the folder\n",
    "csv_files = glob.glob(os.path.join(folder_path, \"*.csv\"))\n",
    "\n",
    "# Initialize an empty list to hold the DataFrames\n",
    "dfs = []\n",
    "\n",
    "# Loop through the list of CSV files and read each one into a DataFrame\n",
    "for file in csv_files:\n",
    "    df = pd.read_csv(file, sep=\";\")\n",
    "    dfs.append(df)\n",
    "\n",
    "# Concatenate all DataFrames into a single DataFrame\n",
    "combined_df = pd.concat(dfs, ignore_index=True)\n",
    "\n",
    "# # Display the combined DataFrame\n",
    "# print(combined_df)"
   ]
  },
  {
   "cell_type": "code",
   "execution_count": 15,
   "metadata": {},
   "outputs": [
    {
     "name": "stdout",
     "output_type": "stream",
     "text": [
      "<class 'pandas.core.frame.DataFrame'>\n",
      "RangeIndex: 800 entries, 0 to 799\n",
      "Data columns (total 7 columns):\n",
      " #   Column             Non-Null Count  Dtype                         \n",
      "---  ------             --------------  -----                         \n",
      " 0   Timestamp          800 non-null    object                        \n",
      " 1   EPC                800 non-null    object                        \n",
      " 2   Antenna            800 non-null    int64                         \n",
      " 3   First Seen         800 non-null    int64                         \n",
      " 4   LastSeen           800 non-null    int64                         \n",
      " 5   Count              800 non-null    int64                         \n",
      " 6   LastSeenTimestamp  800 non-null    datetime64[ns, America/Bogota]\n",
      "dtypes: datetime64[ns, America/Bogota](1), int64(4), object(2)\n",
      "memory usage: 43.9+ KB\n"
     ]
    }
   ],
   "source": [
    "combined_df.info()"
   ]
  },
  {
   "cell_type": "code",
   "execution_count": 10,
   "metadata": {},
   "outputs": [],
   "source": [
    "# combined_df[\" RSSI\"] = combined_df[\" RSSI\"].str.replace(\",\", \".\").astype(float)"
   ]
  },
  {
   "cell_type": "code",
   "execution_count": 26,
   "metadata": {},
   "outputs": [
    {
     "data": {
      "text/html": [
       "<div>\n",
       "<style scoped>\n",
       "    .dataframe tbody tr th:only-of-type {\n",
       "        vertical-align: middle;\n",
       "    }\n",
       "\n",
       "    .dataframe tbody tr th {\n",
       "        vertical-align: top;\n",
       "    }\n",
       "\n",
       "    .dataframe thead th {\n",
       "        text-align: right;\n",
       "    }\n",
       "</style>\n",
       "<table border=\"1\" class=\"dataframe\">\n",
       "  <thead>\n",
       "    <tr style=\"text-align: right;\">\n",
       "      <th></th>\n",
       "      <th>Timestamp</th>\n",
       "      <th>EPC</th>\n",
       "      <th>Antenna</th>\n",
       "      <th>First Seen</th>\n",
       "      <th>LastSeen</th>\n",
       "      <th>Count</th>\n",
       "      <th>LastSeenTimestamp</th>\n",
       "      <th>TimeGroup</th>\n",
       "    </tr>\n",
       "  </thead>\n",
       "  <tbody>\n",
       "    <tr>\n",
       "      <th>0</th>\n",
       "      <td>2025-02-08 07:43:29.526</td>\n",
       "      <td>E280 1190 A503 006A 3554 F063</td>\n",
       "      <td>1</td>\n",
       "      <td>1739018606795153</td>\n",
       "      <td>1739018606795153</td>\n",
       "      <td>1</td>\n",
       "      <td>2025-02-08 07:43:26.795153-05:00</td>\n",
       "      <td>2025-02-08 07:43:20-05:00</td>\n",
       "    </tr>\n",
       "    <tr>\n",
       "      <th>1</th>\n",
       "      <td>2025-02-08 07:43:29.848</td>\n",
       "      <td>E280 1190 A503 006A 3554 1063</td>\n",
       "      <td>1</td>\n",
       "      <td>1739018606970372</td>\n",
       "      <td>1739018606970372</td>\n",
       "      <td>1</td>\n",
       "      <td>2025-02-08 07:43:26.970372-05:00</td>\n",
       "      <td>2025-02-08 07:43:20-05:00</td>\n",
       "    </tr>\n",
       "    <tr>\n",
       "      <th>2</th>\n",
       "      <td>2025-02-08 07:43:30.186</td>\n",
       "      <td>E280 1190 A503 006A 3554 1063</td>\n",
       "      <td>1</td>\n",
       "      <td>1739018607041444</td>\n",
       "      <td>1739018607041444</td>\n",
       "      <td>1</td>\n",
       "      <td>2025-02-08 07:43:27.041444-05:00</td>\n",
       "      <td>2025-02-08 07:43:20-05:00</td>\n",
       "    </tr>\n",
       "    <tr>\n",
       "      <th>3</th>\n",
       "      <td>2025-02-08 07:43:30.492</td>\n",
       "      <td>E280 1190 A503 006A 3554 F063</td>\n",
       "      <td>1</td>\n",
       "      <td>1739018607042223</td>\n",
       "      <td>1739018607042223</td>\n",
       "      <td>1</td>\n",
       "      <td>2025-02-08 07:43:27.042223-05:00</td>\n",
       "      <td>2025-02-08 07:43:20-05:00</td>\n",
       "    </tr>\n",
       "    <tr>\n",
       "      <th>4</th>\n",
       "      <td>2025-02-08 07:43:30.805</td>\n",
       "      <td>E280 1190 A503 006A 3554 F063</td>\n",
       "      <td>1</td>\n",
       "      <td>1739018607144289</td>\n",
       "      <td>1739018607144289</td>\n",
       "      <td>1</td>\n",
       "      <td>2025-02-08 07:43:27.144289-05:00</td>\n",
       "      <td>2025-02-08 07:43:20-05:00</td>\n",
       "    </tr>\n",
       "  </tbody>\n",
       "</table>\n",
       "</div>"
      ],
      "text/plain": [
       "                 Timestamp                            EPC  Antenna  \\\n",
       "0  2025-02-08 07:43:29.526  E280 1190 A503 006A 3554 F063        1   \n",
       "1  2025-02-08 07:43:29.848  E280 1190 A503 006A 3554 1063        1   \n",
       "2  2025-02-08 07:43:30.186  E280 1190 A503 006A 3554 1063        1   \n",
       "3  2025-02-08 07:43:30.492  E280 1190 A503 006A 3554 F063        1   \n",
       "4  2025-02-08 07:43:30.805  E280 1190 A503 006A 3554 F063        1   \n",
       "\n",
       "         First Seen          LastSeen  Count                LastSeenTimestamp  \\\n",
       "0  1739018606795153  1739018606795153      1 2025-02-08 07:43:26.795153-05:00   \n",
       "1  1739018606970372  1739018606970372      1 2025-02-08 07:43:26.970372-05:00   \n",
       "2  1739018607041444  1739018607041444      1 2025-02-08 07:43:27.041444-05:00   \n",
       "3  1739018607042223  1739018607042223      1 2025-02-08 07:43:27.042223-05:00   \n",
       "4  1739018607144289  1739018607144289      1 2025-02-08 07:43:27.144289-05:00   \n",
       "\n",
       "                  TimeGroup  \n",
       "0 2025-02-08 07:43:20-05:00  \n",
       "1 2025-02-08 07:43:20-05:00  \n",
       "2 2025-02-08 07:43:20-05:00  \n",
       "3 2025-02-08 07:43:20-05:00  \n",
       "4 2025-02-08 07:43:20-05:00  "
      ]
     },
     "execution_count": 26,
     "metadata": {},
     "output_type": "execute_result"
    }
   ],
   "source": [
    "combined_df.head()"
   ]
  },
  {
   "cell_type": "code",
   "execution_count": 25,
   "metadata": {},
   "outputs": [
    {
     "name": "stderr",
     "output_type": "stream",
     "text": [
      "/tmp/ipykernel_18946/1999672589.py:2: FutureWarning: 'S' is deprecated and will be removed in a future version, please use 's' instead.\n",
      "  combined_df['TimeGroup'] = (combined_df['LastSeenTimestamp'].dt.floor('20S'))\n"
     ]
    },
    {
     "data": {
      "text/html": [
       "<div>\n",
       "<style scoped>\n",
       "    .dataframe tbody tr th:only-of-type {\n",
       "        vertical-align: middle;\n",
       "    }\n",
       "\n",
       "    .dataframe tbody tr th {\n",
       "        vertical-align: top;\n",
       "    }\n",
       "\n",
       "    .dataframe thead th {\n",
       "        text-align: right;\n",
       "    }\n",
       "</style>\n",
       "<table border=\"1\" class=\"dataframe\">\n",
       "  <thead>\n",
       "    <tr style=\"text-align: right;\">\n",
       "      <th></th>\n",
       "      <th>EPC</th>\n",
       "      <th>TimeGroup</th>\n",
       "      <th>LapCount</th>\n",
       "    </tr>\n",
       "  </thead>\n",
       "  <tbody>\n",
       "    <tr>\n",
       "      <th>0</th>\n",
       "      <td>E280 1190 A503 006A 3554 1063</td>\n",
       "      <td>2025-02-08 07:43:20-05:00</td>\n",
       "      <td>90</td>\n",
       "    </tr>\n",
       "    <tr>\n",
       "      <th>1</th>\n",
       "      <td>E280 1190 A503 006A 3554 1063</td>\n",
       "      <td>2025-02-08 07:58:40-05:00</td>\n",
       "      <td>10</td>\n",
       "    </tr>\n",
       "    <tr>\n",
       "      <th>2</th>\n",
       "      <td>E280 1190 A503 006A 3554 1063</td>\n",
       "      <td>2025-02-08 07:59:00-05:00</td>\n",
       "      <td>47</td>\n",
       "    </tr>\n",
       "    <tr>\n",
       "      <th>3</th>\n",
       "      <td>E280 1190 A503 006A 3554 1063</td>\n",
       "      <td>2025-02-08 08:08:20-05:00</td>\n",
       "      <td>64</td>\n",
       "    </tr>\n",
       "    <tr>\n",
       "      <th>4</th>\n",
       "      <td>E280 1190 A503 006A 3554 1063</td>\n",
       "      <td>2025-02-08 08:11:20-05:00</td>\n",
       "      <td>16</td>\n",
       "    </tr>\n",
       "    <tr>\n",
       "      <th>5</th>\n",
       "      <td>E280 1190 A503 006A 3554 1063</td>\n",
       "      <td>2025-02-08 08:11:40-05:00</td>\n",
       "      <td>175</td>\n",
       "    </tr>\n",
       "    <tr>\n",
       "      <th>6</th>\n",
       "      <td>E280 1190 A503 006A 3554 1063</td>\n",
       "      <td>2025-02-08 08:12:00-05:00</td>\n",
       "      <td>130</td>\n",
       "    </tr>\n",
       "    <tr>\n",
       "      <th>7</th>\n",
       "      <td>E280 1190 A503 006A 3554 F063</td>\n",
       "      <td>2025-02-08 07:43:20-05:00</td>\n",
       "      <td>80</td>\n",
       "    </tr>\n",
       "    <tr>\n",
       "      <th>8</th>\n",
       "      <td>E280 1190 A503 006A 3554 F063</td>\n",
       "      <td>2025-02-08 07:58:40-05:00</td>\n",
       "      <td>2</td>\n",
       "    </tr>\n",
       "    <tr>\n",
       "      <th>9</th>\n",
       "      <td>E280 1190 A503 006A 3554 F063</td>\n",
       "      <td>2025-02-08 07:59:00-05:00</td>\n",
       "      <td>31</td>\n",
       "    </tr>\n",
       "    <tr>\n",
       "      <th>10</th>\n",
       "      <td>E280 1190 A503 006A 3554 F063</td>\n",
       "      <td>2025-02-08 08:08:20-05:00</td>\n",
       "      <td>86</td>\n",
       "    </tr>\n",
       "    <tr>\n",
       "      <th>11</th>\n",
       "      <td>E280 1190 A503 006A 3554 F063</td>\n",
       "      <td>2025-02-08 08:11:20-05:00</td>\n",
       "      <td>9</td>\n",
       "    </tr>\n",
       "    <tr>\n",
       "      <th>12</th>\n",
       "      <td>E280 1190 A503 006A 3554 F063</td>\n",
       "      <td>2025-02-08 08:11:40-05:00</td>\n",
       "      <td>25</td>\n",
       "    </tr>\n",
       "    <tr>\n",
       "      <th>13</th>\n",
       "      <td>E280 1190 A503 006A 3554 F063</td>\n",
       "      <td>2025-02-08 08:12:00-05:00</td>\n",
       "      <td>35</td>\n",
       "    </tr>\n",
       "  </tbody>\n",
       "</table>\n",
       "</div>"
      ],
      "text/plain": [
       "                              EPC                 TimeGroup  LapCount\n",
       "0   E280 1190 A503 006A 3554 1063 2025-02-08 07:43:20-05:00        90\n",
       "1   E280 1190 A503 006A 3554 1063 2025-02-08 07:58:40-05:00        10\n",
       "2   E280 1190 A503 006A 3554 1063 2025-02-08 07:59:00-05:00        47\n",
       "3   E280 1190 A503 006A 3554 1063 2025-02-08 08:08:20-05:00        64\n",
       "4   E280 1190 A503 006A 3554 1063 2025-02-08 08:11:20-05:00        16\n",
       "5   E280 1190 A503 006A 3554 1063 2025-02-08 08:11:40-05:00       175\n",
       "6   E280 1190 A503 006A 3554 1063 2025-02-08 08:12:00-05:00       130\n",
       "7   E280 1190 A503 006A 3554 F063 2025-02-08 07:43:20-05:00        80\n",
       "8   E280 1190 A503 006A 3554 F063 2025-02-08 07:58:40-05:00         2\n",
       "9   E280 1190 A503 006A 3554 F063 2025-02-08 07:59:00-05:00        31\n",
       "10  E280 1190 A503 006A 3554 F063 2025-02-08 08:08:20-05:00        86\n",
       "11  E280 1190 A503 006A 3554 F063 2025-02-08 08:11:20-05:00         9\n",
       "12  E280 1190 A503 006A 3554 F063 2025-02-08 08:11:40-05:00        25\n",
       "13  E280 1190 A503 006A 3554 F063 2025-02-08 08:12:00-05:00        35"
      ]
     },
     "execution_count": 25,
     "metadata": {},
     "output_type": "execute_result"
    }
   ],
   "source": [
    "# Agrupar por la columna 'Antenna' y calcular el promedio de 'LastSeenTimestamp'\n",
    "combined_df['TimeGroup'] = (combined_df['LastSeenTimestamp'].dt.floor('20S'))\n",
    "lap_counts = combined_df.groupby(['EPC', 'TimeGroup']).size().reset_index(name='LapCount')\n",
    "\n",
    "# Mostrar el resultado\n",
    "lap_counts"
   ]
  },
  {
   "cell_type": "code",
   "execution_count": null,
   "metadata": {},
   "outputs": [],
   "source": [
    "import pytz\n",
    "\n",
    "# Obtener la lista de todas las zonas horarias\n",
    "timezones = pytz.all_timezones\n",
    "\n",
    "# Mostrar las primeras 10 zonas horarias como ejemplo\n",
    "for tz in timezones:\n",
    "    print(tz)"
   ]
  },
  {
   "cell_type": "code",
   "execution_count": 17,
   "metadata": {},
   "outputs": [],
   "source": [
    "# combined_df[\"FirstSeenTimestamp\"] = combined_df[\"First Seen\"].apply(\n",
    "#     lambda x: arrow.get(x).to(\"America/Bogota\").format(\"YYYY-MM-DD HH:mm:ss.SSS\")\n",
    "# )\n",
    "\n",
    "combined_df[\"LastSeenTimestamp\"] = pd.to_datetime(\n",
    "    combined_df[\"LastSeen\"],unit=\"us\", utc=True\n",
    ").dt.tz_convert(\"America/Bogota\")"
   ]
  },
  {
   "cell_type": "code",
   "execution_count": 92,
   "metadata": {},
   "outputs": [
    {
     "name": "stdout",
     "output_type": "stream",
     "text": [
      "time.struct_time(tm_year=55109275, tm_mon=11, tm_mday=25, tm_hour=6, tm_min=44, tm_sec=49, tm_wday=0, tm_yday=329, tm_isdst=0)\n",
      "55109275-11-25 06:44:49.1s\n"
     ]
    }
   ],
   "source": [
    "import time\n",
    "\n",
    "# epoch_time = 1613474400  # Replace with your epoch time\n",
    "epoch_time = 1739018607144289  # Replace with your epoch time\n",
    "print(time.gmtime(epoch_time))\n",
    "\n",
    "formatted_time = time.strftime(\"%Y-%m-%d %H:%M:%S.%us\", time.gmtime(epoch_time))\n",
    "print(formatted_time)"
   ]
  },
  {
   "cell_type": "code",
   "execution_count": null,
   "metadata": {},
   "outputs": [
    {
     "name": "stdout",
     "output_type": "stream",
     "text": [
      "2025-02-08 07:43:27.14.144\n"
     ]
    }
   ],
   "source": [
    "epoch_time = 1739018607144289  # Replace with your epoch time\n",
    "\n",
    "# Convert epoch time to datetime\n",
    "dt = arrow.get(epoch_time / 1e6)\n",
    "\n",
    "# Localize to the desired timezone\n",
    "localized_dt = dt.to(\"America/Bogota\")\n",
    "\n",
    "formatted_time = localized_dt.format(\"YYYY-MM-DD HH:mm:ss.SS.SSS\")\n",
    "print(formatted_time)"
   ]
  },
  {
   "cell_type": "code",
   "execution_count": null,
   "metadata": {},
   "outputs": [
    {
     "name": "stdout",
     "output_type": "stream",
     "text": [
      "date_time => 2025-02-08 07:43:30.308050\n",
      "unix_timestamp =>  1739018610.30805\n"
     ]
    }
   ],
   "source": [
    "# importing datetime module\n",
    "import datetime\n",
    "import time\n",
    "\n",
    "# assigned regular string date\n",
    "date_time = datetime.datetime(2025, 2, 8, 7, 43, 30, 308050)\n",
    "\n",
    "# print regular python date&time\n",
    "print(\"date_time =>\", date_time)\n",
    "\n",
    "# displaying unix timestamp after conversion\n",
    "print(\n",
    "    \"unix_timestamp => \",\n",
    "    (time.mktime(date_time.timetuple()) + date_time.microsecond / 1e6),\n",
    ")"
   ]
  },
  {
   "cell_type": "code",
   "execution_count": 64,
   "metadata": {},
   "outputs": [
    {
     "name": "stdout",
     "output_type": "stream",
     "text": [
      "1740242160507.198\n"
     ]
    }
   ],
   "source": [
    "import time\n",
    "import datetime\n",
    "\n",
    "presentDate = datetime.datetime.now()\n",
    "unix_timestamp = datetime.datetime.timestamp(presentDate) * 1000\n",
    "print(unix_timestamp)"
   ]
  },
  {
   "cell_type": "code",
   "execution_count": null,
   "metadata": {},
   "outputs": [
    {
     "data": {
      "text/plain": [
       "time.struct_time(tm_year=55109275, tm_mon=11, tm_mday=24, tm_hour=2, tm_min=10, tm_sec=44, tm_wday=6, tm_yday=328, tm_isdst=0)"
      ]
     },
     "execution_count": 53,
     "metadata": {},
     "output_type": "execute_result"
    }
   ],
   "source": [
    "time.gmtime(epoch_time)"
   ]
  }
 ],
 "metadata": {
  "kernelspec": {
   "display_name": "envtech",
   "language": "python",
   "name": "python3"
  },
  "language_info": {
   "codemirror_mode": {
    "name": "ipython",
    "version": 3
   },
   "file_extension": ".py",
   "mimetype": "text/x-python",
   "name": "python",
   "nbconvert_exporter": "python",
   "pygments_lexer": "ipython3",
   "version": "3.12.7"
  }
 },
 "nbformat": 4,
 "nbformat_minor": 2
}
